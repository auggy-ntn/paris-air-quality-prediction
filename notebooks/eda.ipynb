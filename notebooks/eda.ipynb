{
 "cells": [
  {
   "cell_type": "markdown",
   "id": "27e5de05",
   "metadata": {},
   "source": [
    "# Imports"
   ]
  },
  {
   "cell_type": "code",
   "execution_count": null,
   "id": "541a587c",
   "metadata": {},
   "outputs": [],
   "source": [
    "from datetime import datetime\n",
    "\n",
    "import pandas\n",
    "import plotly.express as px\n",
    "import plotly.graph_objects as go\n",
    "from qolmat.imputations import imputers\n",
    "\n",
    "import constants.constants as cst\n",
    "from src.preprocessing import preprocess_data\n",
    "from src.utils.load_data import load_data"
   ]
  },
  {
   "cell_type": "markdown",
   "id": "5dfb1db5",
   "metadata": {},
   "source": [
    "# Data loading "
   ]
  },
  {
   "cell_type": "code",
   "execution_count": null,
   "id": "05262db6",
   "metadata": {},
   "outputs": [],
   "source": [
    "train, test, submission = load_data()"
   ]
  },
  {
   "cell_type": "markdown",
   "id": "a818f8ef",
   "metadata": {},
   "source": [
    "# Data exploration"
   ]
  },
  {
   "cell_type": "code",
   "execution_count": null,
   "id": "61789a8e",
   "metadata": {},
   "outputs": [],
   "source": [
    "train.shape"
   ]
  },
  {
   "cell_type": "markdown",
   "id": "e6f20744",
   "metadata": {},
   "source": [
    "There are $40991$ rows and $5$ columns to predict."
   ]
  },
  {
   "cell_type": "code",
   "execution_count": null,
   "id": "c4a9d9ff",
   "metadata": {},
   "outputs": [],
   "source": [
    "train.describe()"
   ]
  },
  {
   "cell_type": "markdown",
   "id": "bc27d037",
   "metadata": {},
   "source": [
    "## Graphs"
   ]
  },
  {
   "cell_type": "markdown",
   "id": "2963925d",
   "metadata": {},
   "source": [
    "Let's convert the date column to actual datetime objects."
   ]
  },
  {
   "cell_type": "code",
   "execution_count": null,
   "id": "f449d2b7",
   "metadata": {},
   "outputs": [],
   "source": [
    "train[cst.RAW_DATE] = pandas.to_datetime(train[cst.RAW_DATE], format=\"%Y-%m-%d %H\")"
   ]
  },
  {
   "cell_type": "code",
   "execution_count": null,
   "id": "c1b365aa",
   "metadata": {},
   "outputs": [],
   "source": [
    "cutoff_date = datetime(2022, 1, 1)\n",
    "train_before_cutoff = train[train[cst.RAW_DATE] < cutoff_date]\n",
    "train_after_cutoff = train[train[cst.RAW_DATE] >= cutoff_date]"
   ]
  },
  {
   "cell_type": "code",
   "execution_count": null,
   "id": "81d25941",
   "metadata": {},
   "outputs": [],
   "source": [
    "fig = go.Figure()\n",
    "\n",
    "for pollutant in cst.RAW_TARGETS:\n",
    "    fig.add_trace(\n",
    "        go.Scatter(\n",
    "            x=train_before_cutoff[cst.RAW_DATE],\n",
    "            y=train_before_cutoff[pollutant],\n",
    "            name=pollutant,\n",
    "        )\n",
    "    )\n",
    "\n",
    "fig.show()"
   ]
  },
  {
   "cell_type": "markdown",
   "id": "e3462218",
   "metadata": {},
   "source": [
    "## Missing values"
   ]
  },
  {
   "cell_type": "code",
   "execution_count": null,
   "id": "fcb75280",
   "metadata": {},
   "outputs": [],
   "source": [
    "train.isnull().sum()"
   ]
  },
  {
   "cell_type": "markdown",
   "id": "90502c7f",
   "metadata": {},
   "source": [
    "There are missing values in the training data (over $\\frac{1}{4}$ for CO for instance), we need to fill the holes. For that we can use QOLMAT."
   ]
  },
  {
   "cell_type": "code",
   "execution_count": null,
   "id": "2715b90a",
   "metadata": {},
   "outputs": [],
   "source": [
    "imputer = imputers.ImputerSimple(strategy=\"mean\")\n",
    "train[cst.RAW_TARGETS] = imputer.fit_transform(train[cst.RAW_TARGETS])"
   ]
  },
  {
   "cell_type": "markdown",
   "id": "56683c01",
   "metadata": {},
   "source": [
    "We can test different imputers:"
   ]
  },
  {
   "cell_type": "code",
   "execution_count": null,
   "id": "a75f731a",
   "metadata": {},
   "outputs": [],
   "source": []
  },
  {
   "cell_type": "markdown",
   "id": "89ddb6be",
   "metadata": {},
   "source": [
    "# Final preprocessing"
   ]
  },
  {
   "cell_type": "markdown",
   "id": "1b12b064",
   "metadata": {},
   "source": [
    "After this EDA analysis, we have the following preprocessing:"
   ]
  },
  {
   "cell_type": "code",
   "execution_count": null,
   "id": "2994f6a9",
   "metadata": {},
   "outputs": [],
   "source": [
    "preprocessed_train = preprocess_data(train, imputer=imputer)"
   ]
  }
 ],
 "metadata": {
  "kernelspec": {
   "display_name": "07-intro-to-time-series",
   "language": "python",
   "name": "python3"
  },
  "language_info": {
   "codemirror_mode": {
    "name": "ipython",
    "version": 3
   },
   "file_extension": ".py",
   "mimetype": "text/x-python",
   "name": "python",
   "nbconvert_exporter": "python",
   "pygments_lexer": "ipython3",
   "version": "3.13.7"
  }
 },
 "nbformat": 4,
 "nbformat_minor": 5
}
