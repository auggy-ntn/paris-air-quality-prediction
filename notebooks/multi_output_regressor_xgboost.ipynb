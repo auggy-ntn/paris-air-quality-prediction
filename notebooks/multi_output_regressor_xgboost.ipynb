{
 "cells": [
  {
   "cell_type": "markdown",
   "id": "429c26f2",
   "metadata": {},
   "source": [
    "# Imports"
   ]
  },
  {
   "cell_type": "markdown",
   "id": "c460214b",
   "metadata": {},
   "source": [
    "We will do a Multi Output XGBoost Regressor:"
   ]
  },
  {
   "cell_type": "code",
   "execution_count": 2,
   "id": "821e9f2b",
   "metadata": {},
   "outputs": [],
   "source": [
    "import numpy as np\n",
    "import pandas as pd\n",
    "from sklearn.multioutput import MultiOutputRegressor\n",
    "from xgboost import XGBRegressor\n"
   ]
  },
  {
   "cell_type": "markdown",
   "id": "a6c19280",
   "metadata": {},
   "source": [
    "# Data prep"
   ]
  },
  {
   "cell_type": "code",
   "execution_count": null,
   "id": "b868956c",
   "metadata": {},
   "outputs": [],
   "source": [
    "train = pd.read_csv(\n",
    "    \"/home/augustin/projects/xhec_dsb/07_intro_to_time_series/data/train_imputed_all_columns.csv\"\n",
    ")"
   ]
  },
  {
   "cell_type": "code",
   "execution_count": null,
   "id": "9d3acf1d",
   "metadata": {},
   "outputs": [],
   "source": [
    "lags = [1, 2, 3, 6, 12, 24, 48, 168]\n",
    "\n",
    "\n",
    "def make_features(df, target_col, lags=lags):\n",
    "    df = df.copy()\n",
    "    # Lag features\n",
    "    for lag in lags:\n",
    "        df[f\"{target_col}_lag{lag}\"] = df[target_col].shift(lag)\n",
    "    # Rolling features\n",
    "    df[f\"{target_col}_roll_mean24\"] = df[target_col].shift(1).rolling(24).mean()\n",
    "    df[f\"{target_col}_roll_std24\"] = df[target_col].shift(1).rolling(24).std()\n",
    "    # Time-based features\n",
    "    df[\"hour\"] = df.index.hour\n",
    "    df[\"dayofweek\"] = df.index.dayofweek\n",
    "    df[\"month\"] = df.index.month\n",
    "    df[\"is_weekend\"] = (df[\"dayofweek\"] >= 5).astype(int)\n",
    "    return df.dropna()"
   ]
  }
 ],
 "metadata": {
  "kernelspec": {
   "display_name": "07-intro-to-time-series",
   "language": "python",
   "name": "python3"
  },
  "language_info": {
   "codemirror_mode": {
    "name": "ipython",
    "version": 3
   },
   "file_extension": ".py",
   "mimetype": "text/x-python",
   "name": "python",
   "nbconvert_exporter": "python",
   "pygments_lexer": "ipython3",
   "version": "3.13.7"
  }
 },
 "nbformat": 4,
 "nbformat_minor": 5
}
