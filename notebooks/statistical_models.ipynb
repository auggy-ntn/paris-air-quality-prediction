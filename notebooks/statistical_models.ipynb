{
 "cells": [
  {
   "cell_type": "code",
   "execution_count": null,
   "id": "a70c59b5",
   "metadata": {},
   "outputs": [],
   "source": [
    "import matplotlib.pyplot as plt\n",
    "\n",
    "import constants.constants as cst\n",
    "from src.preprocessing import preprocess_data\n",
    "from src.utils.load_data import load_data\n",
    "from src.utils.plot_predictions import plot_predictions"
   ]
  },
  {
   "cell_type": "markdown",
   "id": "3f95aae1",
   "metadata": {},
   "source": [
    "# Predictions "
   ]
  },
  {
   "cell_type": "markdown",
   "id": "e4ec1705",
   "metadata": {},
   "source": [
    "## Data Loading"
   ]
  },
  {
   "cell_type": "code",
   "execution_count": null,
   "id": "4b1415a0",
   "metadata": {},
   "outputs": [],
   "source": [
    "train, test, submission = load_data()"
   ]
  },
  {
   "cell_type": "code",
   "execution_count": null,
   "id": "8a20472d",
   "metadata": {},
   "outputs": [],
   "source": [
    "train = preprocess_data(train)"
   ]
  },
  {
   "cell_type": "markdown",
   "id": "8067286b",
   "metadata": {},
   "source": [
    "## [Stats Model](https://www.statsmodels.org/stable/index.html)"
   ]
  },
  {
   "cell_type": "code",
   "execution_count": null,
   "id": "83adc1ec",
   "metadata": {},
   "outputs": [],
   "source": [
    "from statsmodels.graphics.tsaplots import plot_pacf"
   ]
  },
  {
   "cell_type": "markdown",
   "id": "b469d3da",
   "metadata": {},
   "source": [
    "### ARIMA model"
   ]
  },
  {
   "cell_type": "code",
   "execution_count": null,
   "id": "fd67d55a",
   "metadata": {},
   "outputs": [],
   "source": [
    "from statsmodels.tsa.arima.model import ARIMA"
   ]
  },
  {
   "cell_type": "code",
   "execution_count": null,
   "id": "f4ee2695",
   "metadata": {},
   "outputs": [],
   "source": [
    "endog = train[cst.O3].tail(500)"
   ]
  },
  {
   "cell_type": "code",
   "execution_count": null,
   "id": "e3f79f76",
   "metadata": {},
   "outputs": [],
   "source": [
    "plot_pacf(endog, lags=40, method=\"ywm\")\n",
    "plt.title(\"Partial Autocorrelation Function (PACF)\")\n",
    "plt.show()"
   ]
  },
  {
   "cell_type": "code",
   "execution_count": null,
   "id": "39b86d4f",
   "metadata": {},
   "outputs": [],
   "source": [
    "p = 2\n",
    "d = 0\n",
    "q = 2"
   ]
  },
  {
   "cell_type": "code",
   "execution_count": null,
   "id": "4de8061a",
   "metadata": {},
   "outputs": [],
   "source": [
    "model = ARIMA(endog, order=(p, d, q))\n",
    "fitted_model = model.fit()\n",
    "print(fitted_model.summary())"
   ]
  },
  {
   "cell_type": "code",
   "execution_count": null,
   "id": "1e455eb6",
   "metadata": {},
   "outputs": [],
   "source": [
    "forecast = fitted_model.get_forecast(steps=len(test))\n",
    "forecast_df = forecast.predicted_mean.to_frame().reset_index(drop=True)\n",
    "\n",
    "forecast_df[cst.DATE] = test[cst.RAW_DATE]\n",
    "forecast_df = forecast_df.rename(columns={\"predicted_mean\": endog.name})"
   ]
  },
  {
   "cell_type": "code",
   "execution_count": null,
   "id": "29d96761",
   "metadata": {},
   "outputs": [],
   "source": [
    "forecast_df"
   ]
  },
  {
   "cell_type": "code",
   "execution_count": null,
   "id": "06911c84",
   "metadata": {},
   "outputs": [],
   "source": [
    "plot_predictions(train, forecast_df, endog.name)"
   ]
  },
  {
   "cell_type": "code",
   "execution_count": null,
   "id": "1b0db1ae",
   "metadata": {},
   "outputs": [],
   "source": [
    "# 1) Model summary & params\n",
    "print(fitted_model.summary())\n",
    "\n",
    "# 2) Are parameters statistically significant?\n",
    "print(fitted_model.params)\n",
    "print(fitted_model.bse)  # std errors\n",
    "\n",
    "# 3) Residual diagnostics\n",
    "fitted_model.plot_diagnostics(figsize=(10, 8))\n",
    "plt.show()\n",
    "\n",
    "# 4) Check last training values\n",
    "print(endog.tail(10))\n",
    "\n",
    "# 5) Stationarity test (maybe you don't need d=1)\n",
    "from statsmodels.tsa.stattools import adfuller\n",
    "\n",
    "stat, pvalue, *_ = adfuller(endog.dropna())\n",
    "print(\"ADF p-value:\", pvalue)\n"
   ]
  },
  {
   "cell_type": "code",
   "execution_count": null,
   "id": "9d9ab3e9",
   "metadata": {},
   "outputs": [],
   "source": []
  }
 ],
 "metadata": {
  "kernelspec": {
   "display_name": "07-intro-to-time-series",
   "language": "python",
   "name": "python3"
  },
  "language_info": {
   "codemirror_mode": {
    "name": "ipython",
    "version": 3
   },
   "file_extension": ".py",
   "mimetype": "text/x-python",
   "name": "python",
   "nbconvert_exporter": "python",
   "pygments_lexer": "ipython3",
   "version": "3.13.7"
  }
 },
 "nbformat": 4,
 "nbformat_minor": 5
}
